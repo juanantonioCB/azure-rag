{
 "cells": [
  {
   "cell_type": "code",
   "execution_count": 18,
   "metadata": {},
   "outputs": [
    {
     "name": "stdout",
     "output_type": "stream",
     "text": [
      "https://servicio-busqueda.search.windows.net pxK15ux30XO9deLtPU1jggrivkk6Ht2bUt9ukCWno9AzSeAFhvK7 indice-rag\n"
     ]
    }
   ],
   "source": [
    "import os\n",
    "import openai\n",
    "from langchain.embeddings import OpenAIEmbeddings\n",
    "from langchain.vectorstores import AzureSearch\n",
    "from dotenv import load_dotenv\n",
    "load_dotenv('.env')\n",
    "print(os.getenv('SEARCH_SERVICE_NAME'), os.getenv('SEARCH_API_KEY'), os.getenv('SEARCH_INDEX_NAME'))\n",
    "\n"
   ]
  },
  {
   "cell_type": "code",
   "execution_count": null,
   "metadata": {},
   "outputs": [],
   "source": [
    "embeddings = OpenAIEmbeddings(deployment=\"text-embedding-ada-002\", chunk_size=1)\n",
    "\n",
    "# Connect to Azure Cognitive Search\n",
    "acs = AzureSearch(azure_search_endpoint=os.getenv('SEARCH_SERVICE_NAME'),\n",
    "                 azure_search_key=os.getenv('SEARCH_API_KEY'),\n",
    "                 index_name=os.getenv('SEARCH_INDEX_NAME'),\n",
    "                 embedding_function=embeddings.embed_query)"
   ]
  },
  {
   "cell_type": "code",
   "execution_count": 20,
   "metadata": {},
   "outputs": [
    {
     "name": "stdout",
     "output_type": "stream",
     "text": [
      "<langchain.document_loaders.csv_loader.CSVLoader object at 0x162a20250>\n"
     ]
    }
   ],
   "source": [
    "from langchain.document_loaders import CSVLoader\n",
    "\n",
    "loader = CSVLoader(\"wine-ratings.csv\")\n",
    "print(loader)\n",
    "documents = loader.load()"
   ]
  },
  {
   "cell_type": "code",
   "execution_count": 21,
   "metadata": {},
   "outputs": [
    {
     "name": "stdout",
     "output_type": "stream",
     "text": [
      "page_content=': 0\\nname: 1000 Stories Bourbon Barrel Aged Batch Blue Carignan 2016\\ngrape: \\nregion: Mendocino, California\\nvariety: Red Wine\\nrating: 91.0\\nnotes: This is a very special, limited release of 1000 Stories Bourbon Barrel-Aged Carignan, their first-ever release of Carignan as a single varietal. Classic and rustic with a little edge. Look for notes of brilliantly racy red and black fruits set to a rich backdrop of toast, herbs, and cocoa.' metadata={'source': 'wine-ratings.csv', 'row': 0}\n",
      "page_content=': 0\\nname: 1000 Stories Bourbon Barrel Aged Batch Blue Carignan 2016\\ngrape: \\nregion: Mendocino, California\\nvariety: Red Wine\\nrating: 91.0\\nnotes: This is a very special, limited release of 1000 Stories Bourbon Barrel-Aged Carignan, their first-ever release of Carignan as a single varietal. Classic and rustic with a little edge. Look for notes of brilliantly racy red and black fruits set to a rich backdrop of toast, herbs, and cocoa.' metadata={'source': 'wine-ratings.csv', 'row': 0}\n"
     ]
    },
    {
     "data": {
      "text/plain": [
       "['OWVlOWI0ZjItMmZmOC00YzdlLTgzMzQtNjE2NmQ3NzQ0M2Q0',\n",
       " 'NjlhNmE2YjMtZjVlMC00YWFmLTg1OTMtMGU0NDI3NDJkMTY2',\n",
       " 'NTk1ZTM3ZmItN2IzNS00NzNhLWFlNGUtYTQzNDZlOGQzZjdl',\n",
       " 'NDBjY2JjNjctMzM4Mi00NTU5LTlhODItMTFjODFjYTkyNTk1',\n",
       " 'ZjkxM2U4YTktZGI4NS00ZjIxLWExM2UtNDIxYzY5ODU1M2I1',\n",
       " 'ZmZjMDk3ODYtMDY4ZC00YjU3LWI2MWYtNzZkYWU0NmJlMmFj',\n",
       " 'MWY0NTZjYWEtN2FlZS00NjA5LWJhOWQtY2RhMWIxZmE5YjNi',\n",
       " 'MmE2Njk3MGMtZjUyMS00NjI4LTgxODMtOWY1OGQ0NDU5ODRi',\n",
       " 'OWYyZDM5YzctYzYzMi00MzlhLTk1NWMtYjdkMTA1NWQ0MmZh',\n",
       " 'OTYzNzg4MDctZjgzZC00NTgzLWJiMDctZTkyMGU2ZGM0Zjhl',\n",
       " 'MDZjNmI0MzItZjQ4MS00NDQ5LTg0OWEtMzk3NzVhMzUxOWMy',\n",
       " 'MjI2OWI4ZjktOWY5OC00MGI1LTkxMDMtOGUzMjYyNTEzYTY3',\n",
       " 'MjA1NGNjYmItMmQ1My00M2JjLTg2ZTAtYzQzMWEyYTAzNWRh',\n",
       " 'N2FmZDI4ODItNzc0My00NjllLWEwZjEtMDA0ZDUyNGNkOGNh',\n",
       " 'NDU1YjllMTEtOWFmOC00NzFiLWIzNDctZmJhZjViZmI3YTAz',\n",
       " 'ODBmMDYwYTItYmVhMC00YWJjLTlhMmMtMTNmOTQzNjJlNDI2',\n",
       " 'MTg5MDY2NmEtMGE2My00MDgwLWFlYmItMjkwNjcyNmNiYzg0',\n",
       " 'ZDhkZGM3MWMtNTJhYS00YjEyLWJiZTAtOTk0YjBmMWZjMWU2',\n",
       " 'NTkyOGM3ZjEtMTk3MS00NzJkLWE0MzctODBjZDYzNzRlMzY2',\n",
       " 'NzdlMWE5YWUtODQwMi00NGEyLWI3NjEtYzU0ZWNkZTM0YzAw',\n",
       " 'YThlMTc2MGQtMmU4Mi00YjM0LThiNzItZTg4MDg1YmQ3OWZh',\n",
       " 'ZWIyOGRlNWItYzliMi00OTlkLTg4OGQtYTJkZjgyYzMyYTQy',\n",
       " 'NmExNTkzYmItZTIzMC00YjBlLWI1YjUtZWM4Mzk0NjU2Njhl',\n",
       " 'MzY5MTZlOGYtNzg3NC00N2JlLWEyY2QtNGQyMzkyZTc5MGU0',\n",
       " 'MzFmOGMyZWItMjFkOS00MjQ0LThkMDMtOGQ3YWYwNTQ0ODZk',\n",
       " 'MDIzMzM1MzAtODdlNS00Zjc3LWJmN2MtZGIwODQ4OTQ3MTVj',\n",
       " 'NGQ1YjU1OGQtMDM3Ny00Yjc0LWEwNGUtZjA2YTg5MzEzMWQy',\n",
       " 'NDNjMzE1MDQtMDQ0OC00NzlkLTlhMzQtY2JhMTE2MmJjNzMy',\n",
       " 'NGZmY2JjM2ItZDY4MS00NzJhLWE3ZjYtNDdkODMzYzU4NWNl',\n",
       " 'YThkN2IwNTQtYWRkYy00M2M2LTlhMDMtYjRmODQwNmM5NDBl',\n",
       " 'NTQ3YTBjODctNzZhNC00MTQ3LThmOWItMWE0OTdiMDE0YmY3',\n",
       " 'NDk3OGNjMGEtOTViZi00MmZlLWFhYjctNWM3ODNhZjg5MDkz',\n",
       " 'ODVmYjIwMGItZmI5OS00ZmM1LWIyNmUtZDVjZWNlZWE1NjJk',\n",
       " 'ZjQ3NmFjMjQtNTVhMi00MDhjLWE0MTMtYzczMWE2MjllNWIz',\n",
       " 'ODUwNTAxM2ItZmM4OC00MmZlLWIxM2UtMzhlYThlOWM4NDIx',\n",
       " 'YjllNzM1M2QtYWMyNS00OGJiLWE0YmUtYjFjMTM3OTczYmEy',\n",
       " 'YmE3YjczNTctYTNjNC00YmViLWI5MmYtNzc3NWFiNWIwYjk0',\n",
       " 'NzI3MTUwZmItOGU2NC00ZTY1LTlhOTQtZDllNTg1OGFjYTQz',\n",
       " 'M2I1ZmM0NzQtZmRjMy00ODVkLTk3OWQtZjBlMDEyNmI5Zjhi',\n",
       " 'N2FkNzNhNWQtNWIxZC00NjNjLWE2OGUtYTMyZTFmODIyMzc0',\n",
       " 'ZTNhYjg3NjMtZTYzYi00OWFiLWIzNzQtMGNiNDFjYjdmYjgz',\n",
       " 'YWJlMmMyZjktOTFiYy00Nzk5LWJhMGEtMWZmNjQ3NTFlMzg5',\n",
       " 'NmFkMDUzYzEtYWE0My00YzIzLTk4ZGItNjVmNmIwMTBmZWJk',\n",
       " 'OTcwZTJkMDEtYTc1MC00YmEzLWE1MWEtZTExYmVmY2Q4YTMy',\n",
       " 'N2M5NzIxYmQtOTY4OS00ZTMwLThiOTItY2IzZmY0OGIxY2E4',\n",
       " 'OTFkZjZkMjktOTkzOC00NTRlLTgwNGEtYjc3NzRhMmJmOTZk',\n",
       " 'Y2I0MzRmYTAtYTYyYi00ZjUzLWJkZGUtMTliZWViY2M5NDJm',\n",
       " 'NTc1NWVhZmItOTQ1MC00NjQ3LWEzYzctM2VmOTRjMTIzOGQx',\n",
       " 'Y2I0MjBjNjAtMzY3OC00OTVlLWE5NTItZGU0MjAzZTJmZDkw',\n",
       " 'YzhmM2NiOGQtNmNmYi00YTk5LWJiMDktYTI3YmFlOWQ5MWE2',\n",
       " 'MjBjYzY4ZWMtMTRkNi00ZGVkLWJiNjgtZGY5OTdhYTM1Mzhj',\n",
       " 'YzY0YjNiZmItMTA1ZS00YTIzLWFiMGEtZjk3MTk5YmM0MmRl',\n",
       " 'ZjRhYTc1ZmMtMTc4Ni00NDRiLWIyYjMtMzgyYTM0OGMzNzlh',\n",
       " 'Y2IxOTc5NzUtZWRjNi00ZDg0LWJjZDQtOGU2NjgyZTZkZTQ5',\n",
       " 'NTY5MTU4YzktMTc2NS00YmMyLWFhOTEtZTFiMDc3MjFlZmFl',\n",
       " 'ZDYyOGQxNGQtN2Q1MC00YmIwLTg3NjQtZGUyZGMxYzA0OGY3',\n",
       " 'YzllN2U5NzgtZjk0Zi00NjdkLWEzZjgtMDI5MGJiZWJlYWU0',\n",
       " 'NThjZjRjYjUtMjdmMy00ZjNiLThmZDktZDkxZjE1ZDhlYTAw',\n",
       " 'YWI4ODA3MzItMTdlNS00NzRlLWE5MzctYTY0MjAxZmMwYjgw',\n",
       " 'NjViZDc1NjQtZWEzZC00Y2MwLWJhOTAtYWNlNzI1MzBmYjc1',\n",
       " 'ZTYyYWM2MmItMGQyZS00NmNkLTlkNDQtNjRjNjQ5ODUxZjJk',\n",
       " 'ZmQwZmU2NjItOTgzMi00NWYwLTk0MTMtZmIyODhiY2M1ZGIy',\n",
       " 'YzBiODI2OWUtYWVhMC00OTMyLWJkNDktMmRiNmViNWM4N2Ji',\n",
       " 'YjZkZWExMTItZjhmYy00NWFjLThkOWMtOWQ1OGM4ZDQ4MThi',\n",
       " 'YWI0ZDVhODYtODg4Yi00ODNjLWJhNDYtOWE0M2U5NGViZjBk',\n",
       " 'MDUxZDUwNWQtMTY0OS00MWE0LWFjYjItZmZlYmQ4YzM0Zjlj',\n",
       " 'NjZkNzM5NmUtY2ZiNS00MmFlLTg4YzgtYTczMGJlNTVlMDI3',\n",
       " 'NDE1NTYwZTctMTI4ZS00NTI5LWJkMTgtNGMxYWM1MjRkYjU5',\n",
       " 'MTdhYzIzMzUtZWFhMS00ZGRkLTg1ZTYtZWI2ZmRhZjA1NmE1',\n",
       " 'MWMzYTYxM2QtYTk2Zi00ZjNmLTg2Y2YtNGIzMTg4NjFlOGM0',\n",
       " 'ZTc0YzZhZjYtMGJjZS00ZDA3LTkxYWMtMjY3NDJjOTc4MTU1',\n",
       " 'NjFmYWM3NTAtY2I5My00MWJkLThlZTktNzNkODIzOGE4NDBi',\n",
       " 'YjY0YzVhMzktYjE2OS00Yzk2LTk3YTktOWQ3OWRiMjJkYmJj',\n",
       " 'MzFiNDhkZjItMGRhOC00MDliLThmZjUtNzM0MDU0NjdmYjc2',\n",
       " 'NmJlNDlhYjQtNmE3Yy00MzQyLWIyNWEtMTdmNThhNzI4Zjdj',\n",
       " 'MmUwNWFjN2UtNzc3ZC00ZTdlLTk4NTQtNTEwODU4MTBkZWM5',\n",
       " 'ODU0MTQxNTQtYmIzZC00MjcyLTlkNWYtYTA0MTU3NmUzZDkw',\n",
       " 'MzIyYzZhODQtNmFjNC00OWQ5LWFkZjYtZWQzOWMxMWQ5NzUw',\n",
       " 'YmFmZDhmN2MtYWQ3ZS00YmE4LTlkYWEtOTE1MzRkN2RkNjkz',\n",
       " 'NWZlODEzNmYtMDRhYi00Y2QzLTkyZDgtYmYyNzg2MmFhZjY2',\n",
       " 'MmRhYjlkNmEtZGEwMi00MjUwLWJlMzgtNDgxYmM1Njc4MmNl',\n",
       " 'ZjU5MmYxMWItYzYzZC00N2MwLTllYjMtZmFlMWFlZWJkMTEw',\n",
       " 'OTlmM2JmYjUtOTQyMS00YjA2LTgzYzQtMzA5MmVjNjUwODk0',\n",
       " 'ZDI4ZTNlOTUtODYyZC00ZTRiLTk2OTktMWYxZjI0OTI5OGYz',\n",
       " 'OTJkZjk3N2ItZTQzZS00Y2FjLWJkNWYtMzRmM2M4YzRkYWI0',\n",
       " 'ZjdjYWE4MGUtZjQ2YS00ZTE0LWEzZDYtYWVmOGU5OGNlODQ3',\n",
       " 'MGRiZmIwMWEtYzM2NC00N2JjLWI3ZWYtZjE3ODM5ZGE4MmY2',\n",
       " 'NGJhODk1YmItNDVmMC00ZDhkLTk2OWEtNDBhNTNlZWVjOWZh',\n",
       " 'ZDkxNWViYzQtNjExNy00ZmRhLWE0MzMtNWMzZTQxODgyN2Nk',\n",
       " 'ZWU2NDNjZjctYTRmYS00MjgzLWIwODAtZTA3NzA3MzZiMTc0',\n",
       " 'YjIyMGQ4YzgtN2RlYy00ZDY1LWEwYjYtYzdiNjBiYWNkMTJh',\n",
       " 'ODlmODAyYjQtN2M3Ny00MmNjLTgxNzMtMWZlZDk1YWY1NGU1',\n",
       " 'OTQ5NmJjNzktNTQyMC00ZDljLThiNDYtODI3MTFkYTViZTg3',\n",
       " 'ZDE1ZjQ3ZGItZjEwNS00Y2RhLWIxZTktY2UyNTk4ZjAyNzgy',\n",
       " 'OTllZTViN2MtZjFjMi00OTRlLWFlZTItMzY0NjM0YTRkY2Vm',\n",
       " 'NjVjODVlNGUtNDM5Yy00YmQxLWJhYTYtNTJlZWI0MzkxNGU5',\n",
       " 'NzU5MjVjYWItNjdlZS00MGIxLTljNjQtZThiMjM2OTA5MTJj',\n",
       " 'NmQ0ZGRiMjAtZTllNC00MjRmLWEwMDQtNjYxNGMyNjRhODlm',\n",
       " 'ZGI5MzM4N2UtYTA0Zi00NzRlLWI3ZmEtNDA0NzdiYmIxNTUz',\n",
       " 'ZTFmNjU3N2MtZjI0OS00YWE0LTkzMjktNzE3MGFmNDhhOWNl']"
      ]
     },
     "execution_count": 21,
     "metadata": {},
     "output_type": "execute_result"
    }
   ],
   "source": [
    "from langchain.text_splitter import CharacterTextSplitter\n",
    "text_splitter = CharacterTextSplitter(chunk_size=1000, chunk_overlap=0)\n",
    "print(documents[0])\n",
    "docs = text_splitter.split_documents(documents)\n",
    "docs = docs[:100]\n",
    "print(docs[0])\n",
    "acs.add_documents(documents=docs)"
   ]
  },
  {
   "cell_type": "code",
   "execution_count": 22,
   "metadata": {},
   "outputs": [
    {
     "name": "stdout",
     "output_type": "stream",
     "text": [
      ": 20\n",
      "name: 1849 Declaration Napa Valley Cabernet Sauvignon 2014\n",
      "grape: \n",
      "region: Napa Valley, California\n",
      "variety: Red Wine\n",
      "rating: 91.0\n",
      "notes: The palate is robust with flavors of dark blueberry, blackberry, traces of red currant, and subtle sweet oak from the barrel. This wine is fruit forward, full-bodied and spreads richly across the palate with soft velvety tannins and a long-lasting finish.\n",
      "['Config', '__abstractmethods__', '__annotations__', '__class__', '__class_vars__', '__config__', '__custom_root_type__', '__delattr__', '__dict__', '__dir__', '__doc__', '__eq__', '__exclude_fields__', '__fields__', '__fields_set__', '__format__', '__ge__', '__get_validators__', '__getattribute__', '__getstate__', '__gt__', '__hash__', '__include_fields__', '__init__', '__init_subclass__', '__iter__', '__json_encoder__', '__le__', '__lt__', '__module__', '__ne__', '__new__', '__post_root_validators__', '__pre_root_validators__', '__pretty__', '__private_attributes__', '__reduce__', '__reduce_ex__', '__repr__', '__repr_args__', '__repr_name__', '__repr_str__', '__rich_repr__', '__schema_cache__', '__setattr__', '__setstate__', '__signature__', '__sizeof__', '__slots__', '__str__', '__subclasshook__', '__try_update_forward_refs__', '__validators__', '_abc_impl', '_calculate_keys', '_copy_and_set_values', '_decompose_class', '_enforce_dict_if_root', '_get_value', '_init_private_attributes', '_iter', '_lc_kwargs', 'construct', 'copy', 'dict', 'from_orm', 'get_lc_namespace', 'is_lc_serializable', 'json', 'lc_attributes', 'lc_id', 'lc_secrets', 'metadata', 'page_content', 'parse_file', 'parse_obj', 'parse_raw', 'schema', 'schema_json', 'to_json', 'to_json_not_implemented', 'type', 'update_forward_refs', 'validate']\n"
     ]
    }
   ],
   "source": [
    "docs = acs.similarity_search_with_relevance_scores(\n",
    "    query=\"What is the best Cabernet Sauvignon wine in Napa Valley above 94 points\",\n",
    "    k=5,\n",
    ")\n",
    "print(docs[0][0].page_content)\n",
    "print(dir(docs[0][0]))"
   ]
  },
  {
   "cell_type": "code",
   "execution_count": 24,
   "metadata": {},
   "outputs": [
    {
     "name": "stdout",
     "output_type": "stream",
     "text": [
      "{'choices': [{'finish_reason': 'stop',\n",
      "              'index': 0,\n",
      "              'message': {'annotations': [],\n",
      "                          'content': 'Oregon is renowned for its Pinot Noir, '\n",
      "                                     'especially from regions like Willamette '\n",
      "                                     \"Valley. While I can't access real-time \"\n",
      "                                     'data to provide the latest specific '\n",
      "                                     'wines above 92 points, some of the '\n",
      "                                     'consistently highly-rated Oregon wines '\n",
      "                                     'include:\\n'\n",
      "                                     '\\n'\n",
      "                                     '1. **Domaine Serene** - Known for their '\n",
      "                                     'Pinots and Chardonnays, several vintages '\n",
      "                                     'have received scores above 92.\\n'\n",
      "                                     '2. **Ken Wright Cellars** - Their Pinot '\n",
      "                                     'Noir often garners high ratings.\\n'\n",
      "                                     '3. **Archery Summit** - Another producer '\n",
      "                                     'whose wines frequently score in the '\n",
      "                                     '90s.\\n'\n",
      "                                     '4. **Stoller Family Estate** - Their '\n",
      "                                     'estate Pinot Noir can also reach those '\n",
      "                                     'high ratings.\\n'\n",
      "                                     '\\n'\n",
      "                                     \"To find the best current options, I'd \"\n",
      "                                     'recommend checking recent wine scores '\n",
      "                                     'from respected publications like Wine '\n",
      "                                     'Spectator, Wine Enthusiast, or Robert '\n",
      "                                     \"Parker's Wine Advocate, as they provide \"\n",
      "                                     'up-to-date ratings based on vintage and '\n",
      "                                     'specific labels.',\n",
      "                          'refusal': None,\n",
      "                          'role': 'assistant'}}],\n",
      " 'created': 1747849346,\n",
      " 'id': 'chatcmpl-BZhkQLFQVjGDWtTYhbmS5G4s2Z1tP',\n",
      " 'model': 'gpt-4o-mini-2024-07-18',\n",
      " 'object': 'chat.completion',\n",
      " 'system_fingerprint': 'fp_7a53abb7a2',\n",
      " 'usage': {'completion_tokens': 181,\n",
      "           'completion_tokens_details': {'accepted_prediction_tokens': 0,\n",
      "                                         'audio_tokens': 0,\n",
      "                                         'reasoning_tokens': 0,\n",
      "                                         'rejected_prediction_tokens': 0},\n",
      "           'prompt_tokens': 141,\n",
      "           'prompt_tokens_details': {'audio_tokens': 0,\n",
      "                                     'cached_tokens': 0},\n",
      "           'total_tokens': 322}}\n",
      "Oregon is renowned for its Pinot Noir, especially from regions like Willamette Valley. While I can't access real-time data to provide the latest specific wines above 92 points, some of the consistently highly-rated Oregon wines include:\n",
      "\n",
      "1. **Domaine Serene** - Known for their Pinots and Chardonnays, several vintages have received scores above 92.\n",
      "2. **Ken Wright Cellars** - Their Pinot Noir often garners high ratings.\n",
      "3. **Archery Summit** - Another producer whose wines frequently score in the 90s.\n",
      "4. **Stoller Family Estate** - Their estate Pinot Noir can also reach those high ratings.\n",
      "\n",
      "To find the best current options, I'd recommend checking recent wine scores from respected publications like Wine Spectator, Wine Enthusiast, or Robert Parker's Wine Advocate, as they provide up-to-date ratings based on vintage and specific labels.\n"
     ]
    }
   ],
   "source": [
    "openai.api_base = os.getenv(\"OPENAI_API_BASE\")  # Your Azure OpenAI resource's endpoint value.\n",
    "openai.api_key = os.getenv(\"OPENAI_API_KEY\")\n",
    "openai.api_type = \"azure\"\n",
    "openai.api_version = \"2023-05-15\" \n",
    "messages=[\n",
    "    {\"role\": \"system\", \"content\": \"Asisstant is a chatbot that helps you find the best wine for your taste.\"},\n",
    "    {\"role\": \"user\", \"content\": \"What is the best wine in Oregon above 92 points?\"},\n",
    "    {\"role\": \"assistant\", \"content\": docs[0][0].page_content}\n",
    "]\n",
    "\n",
    "response = openai.ChatCompletion.create(\n",
    "    engine=\"gpt-4o-mini\",\n",
    "    messages=messages,\n",
    ")\n",
    "from pprint import pprint\n",
    "pprint(response)\n",
    "print(response['choices'][0]['message']['content'])"
   ]
  }
 ],
 "metadata": {
  "kernelspec": {
   "display_name": "Python 3",
   "language": "python",
   "name": "python3"
  },
  "language_info": {
   "codemirror_mode": {
    "name": "ipython",
    "version": 3
   },
   "file_extension": ".py",
   "mimetype": "text/x-python",
   "name": "python",
   "nbconvert_exporter": "python",
   "pygments_lexer": "ipython3",
   "version": "3.9.13"
  }
 },
 "nbformat": 4,
 "nbformat_minor": 2
}
